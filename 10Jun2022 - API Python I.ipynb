{
 "cells": [
  {
   "cell_type": "markdown",
   "metadata": {
    "id": "ePVVRJ_7FkEg"
   },
   "source": [
    "<a href=\"https://colab.research.google.com/github/datarobot-community/DRU-MLOps/blob/master/10Jun2022 - API Python I.ipynb\" target=\"_parent\"><img src=\"https://colab.research.google.com/assets/colab-badge.svg\" alt=\"Open In Colab\"/></a>"
   ]
  },
  {
   "cell_type": "markdown",
   "metadata": {
    "id": "VLxOyJ2xMrlL"
   },
   "source": [
    "![title](datarobot.jpg)"
   ]
  },
  {
   "cell_type": "markdown",
   "metadata": {
    "id": "_OUbruxUMrlM"
   },
   "source": [
    "# Introductions"
   ]
  },
  {
   "cell_type": "markdown",
   "metadata": {},
   "source": [
    "1. Any preferred name you'd like to go by?\n",
    "2. What experience do you have with Python?\n",
    "3. What experience do you already have with using the Datarobot Python package?"
   ]
  },
  {
   "cell_type": "markdown",
   "metadata": {
    "id": "tFS-eBOmsi-F"
   },
   "source": [
    "# What to expect"
   ]
  },
  {
   "cell_type": "markdown",
   "metadata": {},
   "source": [
    "- The class is broken into two sessions each covering one half-day block.\n",
    "    - Each session is comprised of two modules.\n",
    "    - Each module should cover around 90 minutes including a 10 minute break near the top of each hour.\n",
    "    - Within each module, multiple topics will be covered.\n",
    "- While the specific timings of each module may differ, overall we will plan to follow this format:\n",
    "    - Motivation for the topic covered will first be given.\n",
    "    - We'll examine how this is done in Python using the datarobot Python package and other packages like `pandas`, `matplotlib`, etc. You'll write the code as it is presented to help you start to become fluent in the syntax.\n",
    "    - Then you'll practice what you've just learned on a different problem/context by programming yourself.\n",
    "        - You can decide whether you'd like to try the beginner, intermediate, or advanced option.\n",
    "        - Ideally, you try all three!\n",
    "    - We'll go over ways to solve the particular problem and discuss solutions.\n",
    "    - We'll then head into covering the next topic in the module.\n",
    "- Overall, we want you to be able to practice your learning immediately to check for understanding and get help from us as needed to get things working."
   ]
  },
  {
   "cell_type": "markdown",
   "metadata": {},
   "source": [
    "# Agenda"
   ]
  },
  {
   "cell_type": "markdown",
   "metadata": {},
   "source": [
    "Session A\n",
    "- [Module 1.1 - Preliminaries](#Module-1.1:-Preliminaries)\n",
    "- [Module 1.2 - Model interpretation basics](#Module-1.2:-Model-interpretation-basics)\n",
    "\n",
    "Session B\n",
    "- [Module 2.1 - Further model interpretation and understanding](#Module-2.1:-Further-model-interpretation-and-understanding)\n",
    "- [Module 2.2 - Advanced feature selection](#Module-2.2:-Advanced-feature-selection)"
   ]
  },
  {
   "cell_type": "markdown",
   "metadata": {},
   "source": [
    "You'll see that we have some overall themes in this class. First, we'll go over how to connect Python to the DataRobot client. Then we'll see how to make a DataRobot project. Inside that project, we'll look into featurelists and blueprints before diving into building models and evaluating and understanding them with the use of some visualizations. These main ideas are also covered in the DataRobot Python cheatsheet that has been included in the course ZIP file. We don't go over everything on that sheet in this class but it can be a useful resource. Now that we've talked about the general concepts of the course I'd like to cover the main expectations."
   ]
  },
  {
   "cell_type": "markdown",
   "metadata": {},
   "source": [
    "## Learning objectives\n",
    "\n",
    "By the end of this mission, you will be able to:\n",
    "\n",
    "- Connect to the DataRobot client using an API key\n",
    "- Create a project in DataRobot programmatically\n",
    "- Set the target feature for a DataRobot project\n",
    "- Download and review DataRobot created featurelists\n",
    "- Extract and customize the features of a featurelist\n",
    "- Review the properties of a DataRobot project Repository\n",
    "- Build a new model from a blueprint and custom featurelist\n",
    "- Start autopilot with the maximum number of workers\n",
    "\n",
    "\n",
    "- List all models trained during autopilot\n",
    "- Create a custom function in Python to extract Leaderboard results\n",
    "- Get training predictions for a model\n",
    "- Create a custom lift chart to aggregate predicted and actual results\n",
    "- Retrieve Feature Impact for top performing models\n",
    "- Build a model with reduced features based on Feature Impact\n",
    "- Make predictions on scoring data"
   ]
  },
  {
   "cell_type": "markdown",
   "metadata": {},
   "source": [
    "Overall, the purpose of what is shown in this class are ways to access DataRobot in a programmatic way. These examples may not necessarily be the best use cases for you directly, but our goal is for you to be able to directly apply your learning here to your own projects."
   ]
  },
  {
   "cell_type": "markdown",
   "metadata": {},
   "source": [
    "---"
   ]
  },
  {
   "cell_type": "markdown",
   "metadata": {},
   "source": [
    "---"
   ]
  },
  {
   "cell_type": "markdown",
   "metadata": {
    "id": "VeC6ZQmYnIYl"
   },
   "source": [
    "Let's begin by uploading a few resources we will need to the Colab environmentt:\n",
    "\n",
    "1. Training dataset: **shot_logs_wed.csv**\n",
    "2. Scoring dataset: **shot_logs_sat.csv**\n",
    "3. Configuration file: **drconfig.yaml**\n",
    "4. Requirements file: **colab_requirements.txt**"
   ]
  },
  {
   "cell_type": "code",
   "execution_count": null,
   "metadata": {
    "id": "-IDgpv8NMs7r"
   },
   "outputs": [],
   "source": [
    "from google.colab import files\n",
    "uploaded = files.upload()"
   ]
  },
  {
   "cell_type": "code",
   "execution_count": null,
   "metadata": {
    "id": "4sN_vquZolv_"
   },
   "outputs": [],
   "source": [
    "!ls"
   ]
  },
  {
   "cell_type": "code",
   "execution_count": null,
   "metadata": {},
   "outputs": [],
   "source": []
  }
 ],
 "metadata": {
  "accelerator": "GPU",
  "colab": {
   "collapsed_sections": [],
   "name": "MLOps III - DRUM",
   "provenance": [],
   "toc_visible": true
  },
  "kernelspec": {
   "display_name": "Python 3",
   "language": "python",
   "name": "python3"
  },
  "language_info": {
   "codemirror_mode": {
    "name": "ipython",
    "version": 3
   },
   "file_extension": ".py",
   "mimetype": "text/x-python",
   "name": "python",
   "nbconvert_exporter": "python",
   "pygments_lexer": "ipython3",
   "version": "3.8.8"
  }
 },
 "nbformat": 4,
 "nbformat_minor": 1
}
